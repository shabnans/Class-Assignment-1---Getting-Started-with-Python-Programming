{
  "nbformat": 4,
  "nbformat_minor": 0,
  "metadata": {
    "colab": {
      "name": "Untitled1.ipynb",
      "provenance": [],
      "authorship_tag": "ABX9TyPpUP5GDLLT6ITNSNyI48+f",
      "include_colab_link": true
    },
    "kernelspec": {
      "name": "python3",
      "display_name": "Python 3"
    }
  },
  "cells": [
    {
      "cell_type": "markdown",
      "metadata": {
        "id": "view-in-github",
        "colab_type": "text"
      },
      "source": [
        "<a href=\"https://colab.research.google.com/github/shabnans/Class-Assignment-1---Getting-Started-with-Python-Programming/blob/master/Untitled1.ipynb\" target=\"_parent\"><img src=\"https://colab.research.google.com/assets/colab-badge.svg\" alt=\"Open In Colab\"/></a>"
      ]
    },
    {
      "cell_type": "code",
      "metadata": {
        "id": "8iyWU5Oayg7S",
        "outputId": "17604740-72c1-4d93-bc7a-809c505ef38e",
        "colab": {
          "base_uri": "https://localhost:8080/",
          "height": 34
        }
      },
      "source": [
        "#program to get the largest number from the list\n",
        "list=[2,4,6,8,9]\n",
        "max=list[0]\n",
        "for a in list:\n",
        "  if a>max:\n",
        "    max=a\n",
        "print(max)"
      ],
      "execution_count": 3,
      "outputs": [
        {
          "output_type": "stream",
          "text": [
            "9\n"
          ],
          "name": "stdout"
        }
      ]
    },
    {
      "cell_type": "code",
      "metadata": {
        "id": "i2eZ-UhF0lEv",
        "outputId": "284afc14-a750-466a-a930-df74a7621bfd",
        "colab": {
          "base_uri": "https://localhost:8080/",
          "height": 68
        }
      },
      "source": [
        "#python code to search an element from a list\n",
        "\n",
        "list=[1,2,3,4,5]\n",
        "print(list)\n",
        "n=int(input(\"enter the value to search:\"))\n",
        "for i in list:\n",
        "  if i==n:\n",
        "    print(\"element is found\")\n",
        "    break\n",
        "else:\n",
        "  print(\"element is not found\")"
      ],
      "execution_count": 5,
      "outputs": [
        {
          "output_type": "stream",
          "text": [
            "[1, 2, 3, 4, 5]\n",
            "enter the value to search:9\n",
            "element is not found\n"
          ],
          "name": "stdout"
        }
      ]
    },
    {
      "cell_type": "code",
      "metadata": {
        "id": "alZ1sY8B1tRj",
        "outputId": "27c9d72d-6422-4ade-887d-941502cc1359",
        "colab": {
          "base_uri": "https://localhost:8080/",
          "height": 34
        }
      },
      "source": [
        "#python code to sum all the items in a list\n",
        "list=[2,4,5,6,7]\n",
        "sum=0\n",
        "for x in list:\n",
        "  sum+=x\n",
        "print(sum)"
      ],
      "execution_count": 7,
      "outputs": [
        {
          "output_type": "stream",
          "text": [
            "24\n"
          ],
          "name": "stdout"
        }
      ]
    },
    {
      "cell_type": "code",
      "metadata": {
        "id": "yO6oCHDG2Ycw",
        "outputId": "0d80331f-f574-458f-ee53-b53a8c5068d9",
        "colab": {
          "base_uri": "https://localhost:8080/",
          "height": 34
        }
      },
      "source": [
        "#python code to remove duplicates from the list\n",
        "Duplicatelist=[10,20,30,20,10,50,60,40,80,50,40]\n",
        "final_list=[]\n",
        "for num in Duplicatelist:\n",
        "  if num not in final_list:\n",
        "    final_list.append(num)\n",
        "print(final_list)"
      ],
      "execution_count": 23,
      "outputs": [
        {
          "output_type": "stream",
          "text": [
            "[10, 20, 30, 50, 60, 40, 80]\n"
          ],
          "name": "stdout"
        }
      ]
    },
    {
      "cell_type": "code",
      "metadata": {
        "id": "O4e4kcbt5lsV",
        "outputId": "bebeb28a-7934-48e1-aa36-12229e20c5cc",
        "colab": {
          "base_uri": "https://localhost:8080/",
          "height": 51
        }
      },
      "source": [
        "#python code to take two lists and returns True if they have at least one common member\n",
        "def common_data(list1,list2):\n",
        "  for x in list1:\n",
        "    for y in list2:\n",
        "      if x==y:\n",
        "        result=True\n",
        "        return result\n",
        "print(common_data([1,2,3,5,4],[2,4,8,9]))\n",
        "print(common_data([2,4,5,3],[6,7,8,9]))"
      ],
      "execution_count": 42,
      "outputs": [
        {
          "output_type": "stream",
          "text": [
            "True\n",
            "None\n"
          ],
          "name": "stdout"
        }
      ]
    },
    {
      "cell_type": "code",
      "metadata": {
        "id": "xzxk4NpG9QMG",
        "outputId": "a4a0f0bb-f0f5-43ac-b001-77dd6214b3f0",
        "colab": {
          "base_uri": "https://localhost:8080/",
          "height": 34
        }
      },
      "source": [
        "#python program to append a list to the second list\n",
        "list1=[1,2,3,0]\n",
        "list2=['Rose','Green','Pink']\n",
        "list=list1+list2\n",
        "print(list)\n"
      ],
      "execution_count": 48,
      "outputs": [
        {
          "output_type": "stream",
          "text": [
            "[1, 2, 3, 0, 'Rose', 'Green', 'Pink']\n"
          ],
          "name": "stdout"
        }
      ]
    },
    {
      "cell_type": "code",
      "metadata": {
        "id": "2FH4wuRk-0SE",
        "outputId": "6c8eddeb-14f1-4b53-a94a-b1ca9d966050",
        "colab": {
          "base_uri": "https://localhost:8080/",
          "height": 51
        }
      },
      "source": [
        "#python program to check if a given number is a composite number or not\n",
        "n=int(input(\"enter the number:\"))\n",
        "factor=0\n",
        "for i in range(1,n):\n",
        "  if n%i==0:\n",
        "    factor=i\n",
        "if factor>1:\n",
        "  print(\"The number is a composite number!\")\n",
        "elif n==1:\n",
        "  print(\"The number 1 is neither prime nor composite!\")\n",
        "else:\n",
        "  print(\"This is not a composite number!\")"
      ],
      "execution_count": 51,
      "outputs": [
        {
          "output_type": "stream",
          "text": [
            "enter the number:2\n",
            "This is not a composite number!\n"
          ],
          "name": "stdout"
        }
      ]
    },
    {
      "cell_type": "code",
      "metadata": {
        "id": "adA_2FH9AMXa",
        "outputId": "0529f149-aad4-4bc5-fc0f-3e1d9e38e920",
        "colab": {
          "base_uri": "https://localhost:8080/",
          "height": 34
        }
      },
      "source": [
        "#python code to add two matrices using list\n",
        "x=[[12,7,3],[4,5,6,],[7,8,9,]]\n",
        "y=[[5,8,1],[6,7,3],[4,5,9]]\n",
        "z=[[0,0,0],[0,0,0],[0,0,0]]\n",
        "for i in range(len(x)):\n",
        "  for j in range(len(x[0])):\n",
        "    z[i][j]=x[i][j]+y[i][j]\n",
        "print(z)\n",
        "\n",
        "\n",
        "\n"
      ],
      "execution_count": 55,
      "outputs": [
        {
          "output_type": "stream",
          "text": [
            "[[17, 15, 4], [10, 12, 9], [11, 13, 18]]\n"
          ],
          "name": "stdout"
        }
      ]
    },
    {
      "cell_type": "code",
      "metadata": {
        "id": "71Dn_JJxFV0v"
      },
      "source": [
        ""
      ],
      "execution_count": null,
      "outputs": []
    },
    {
      "cell_type": "code",
      "metadata": {
        "id": "Se4JxfIPELbT",
        "outputId": "0e2db2f5-401a-4c59-b21a-d41635acc771",
        "colab": {
          "base_uri": "https://localhost:8080/",
          "height": 51
        }
      },
      "source": [
        "#python code to check if a string is palindrome or not\n",
        "def isPalindrome(s):\n",
        "  rev=''.join(reversed(s))\n",
        "  if(s==rev):\n",
        "    return True\n",
        "  return False\n",
        "s=input(\"enter a word:\")\n",
        "ans=isPalindrome(s)\n",
        "if(ans):\n",
        "  print(\"Palindrome\")\n",
        "else:\n",
        "  print(\"Not Palindrome\")"
      ],
      "execution_count": 56,
      "outputs": [
        {
          "output_type": "stream",
          "text": [
            "enter a word:malayalam\n",
            "Palindrome\n"
          ],
          "name": "stdout"
        }
      ]
    },
    {
      "cell_type": "code",
      "metadata": {
        "id": "S6oytZr_FcDN",
        "outputId": "1948c682-d7fb-401b-9712-0d693bb52172",
        "colab": {
          "base_uri": "https://localhost:8080/",
          "height": 238
        }
      },
      "source": [
        "#python code to print multiplication table of a number\n",
        "n=int(input(\"enter a number:\"))\n",
        "for i in range(1,13):\n",
        "  print(n,\"x\",i,\"=\",n*i)\n"
      ],
      "execution_count": 64,
      "outputs": [
        {
          "output_type": "stream",
          "text": [
            "enter a number:2\n",
            "2 x 1 = 2\n",
            "2 x 2 = 4\n",
            "2 x 3 = 6\n",
            "2 x 4 = 8\n",
            "2 x 5 = 10\n",
            "2 x 6 = 12\n",
            "2 x 7 = 14\n",
            "2 x 8 = 16\n",
            "2 x 9 = 18\n",
            "2 x 10 = 20\n",
            "2 x 11 = 22\n",
            "2 x 12 = 24\n"
          ],
          "name": "stdout"
        }
      ]
    }
  ]
}