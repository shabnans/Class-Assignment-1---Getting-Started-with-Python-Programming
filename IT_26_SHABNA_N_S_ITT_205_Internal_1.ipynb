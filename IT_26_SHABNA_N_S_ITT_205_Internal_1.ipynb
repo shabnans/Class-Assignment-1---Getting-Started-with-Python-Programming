{
  "nbformat": 4,
  "nbformat_minor": 0,
  "metadata": {
    "colab": {
      "name": "IT 26 SHABNA N S - ITT_205_Internal_1.ipynb",
      "provenance": [],
      "include_colab_link": true
    },
    "kernelspec": {
      "name": "python3",
      "display_name": "Python 3"
    }
  },
  "cells": [
    {
      "cell_type": "markdown",
      "metadata": {
        "id": "view-in-github",
        "colab_type": "text"
      },
      "source": [
        "<a href=\"https://colab.research.google.com/github/shabnans/Class-Assignment-1---Getting-Started-with-Python-Programming/blob/master/IT_26_SHABNA_N_S_ITT_205_Internal_1.ipynb\" target=\"_parent\"><img src=\"https://colab.research.google.com/assets/colab-badge.svg\" alt=\"Open In Colab\"/></a>"
      ]
    },
    {
      "cell_type": "markdown",
      "metadata": {
        "id": "6uxXovct7eEd"
      },
      "source": [
        "\n",
        "#**KTU INTERNAL EXAMINATION, October 2020**\n",
        "##**Third Semester IT**\n",
        "###**ITT 205 Problem Solving using Python**\n",
        "####**Max Marks50           Time 2 hours**\n",
        "####**PART A**\n",
        "####**(Answer ALL Questions)**\n"
      ]
    },
    {
      "cell_type": "markdown",
      "metadata": {
        "id": "1o_NQLG38GNV"
      },
      "source": [
        "1.\tWhat is the use of pass statement in Python? Write an example\t\t\t\t\t\tCO1"
      ]
    },
    {
      "cell_type": "markdown",
      "metadata": {
        "id": "oiXSeWtSNnJk"
      },
      "source": [
        "* The pass statement is a no-operation placeholder that is used when\n",
        "the syntax requires a statement, but you have nothing useful to say. \n",
        "* It is often used to code an empty body for a compound statement.\n",
        "\n",
        "* while True: pass # Type Ctrl-C to stop me!\n",
        "\n",
        "* Because the body is just an empty statement, Python gets stuck in this loop.\n",
        "\n",
        "* A pass is also sometime coded to mean “to be filled in later,” to stub out the bodies of functions temporarily:\n",
        "\n",
        "* We can’t leave the body empty without getting a syntax error, so we say pass instead.\n",
        "\n",
        "\n"
      ]
    },
    {
      "cell_type": "code",
      "metadata": {
        "id": "VCp3Ahx97eUf"
      },
      "source": [
        "def func1():\n",
        "  pass # Add real code here later\n",
        "def func2():\n",
        "  pass  "
      ],
      "execution_count": null,
      "outputs": []
    },
    {
      "cell_type": "markdown",
      "metadata": {
        "id": "REGAuifu8Lrj"
      },
      "source": [
        "2.\tWrite a  program which accepts the radius of a circle and compute the area.\tCO1"
      ]
    },
    {
      "cell_type": "code",
      "metadata": {
        "id": "8qmx3RO98Mz7",
        "outputId": "0dc806b8-f0f4-4387-e83d-70bc8ce31dd6",
        "colab": {
          "base_uri": "https://localhost:8080/",
          "height": 51
        }
      },
      "source": [
        "radius=int(input(\"enter the radius:\"))\n",
        "area=3.14*radius**2\n",
        "print(\"The area of circle is\",area,\"square units\")"
      ],
      "execution_count": 1,
      "outputs": [
        {
          "output_type": "stream",
          "text": [
            "enter the radius:4\n",
            "The area of circle is 50.24 square units\n"
          ],
          "name": "stdout"
        }
      ]
    },
    {
      "cell_type": "markdown",
      "metadata": {
        "id": "54K4SpOv8NxM"
      },
      "source": [
        "3.\tWrite a program to find the occurrence of a given substring in a string\t\t\t\tCO2"
      ]
    },
    {
      "cell_type": "code",
      "metadata": {
        "id": "cMuLVtHk8O79",
        "outputId": "b3bb786d-0801-4e12-ee35-bbe321a85602",
        "colab": {
          "base_uri": "https://localhost:8080/",
          "height": 51
        }
      },
      "source": [
        "string=\"red,biue,green\"\n",
        "word=\"green\" in string\n",
        "print(word)\n",
        "x=string.find(\"green\")\n",
        "print(x)"
      ],
      "execution_count": 2,
      "outputs": [
        {
          "output_type": "stream",
          "text": [
            "True\n",
            "9\n"
          ],
          "name": "stdout"
        }
      ]
    },
    {
      "cell_type": "markdown",
      "metadata": {
        "id": "KHgtgTF78RIy"
      },
      "source": [
        "4.\tWrite a  function that takes two lists and returns True if they have at least two common members CO2"
      ]
    },
    {
      "cell_type": "code",
      "metadata": {
        "id": "i7oOWI3c8RUx",
        "outputId": "75a54aea-6f44-4540-ec38-efe77893dffd",
        "colab": {
          "base_uri": "https://localhost:8080/",
          "height": 34
        }
      },
      "source": [
        "def common_data(list1,list2):\n",
        "    c=0\n",
        "    for x in list1:\n",
        "      for y in list2:\n",
        "        if x==y:\n",
        "          c=c+1\n",
        "    if c>=2:\n",
        "        return True\n",
        "    else:\n",
        "        return False\n",
        "print(common_data([1,2,3,4,5],[2,4,6,8]))"
      ],
      "execution_count": 7,
      "outputs": [
        {
          "output_type": "stream",
          "text": [
            "True\n"
          ],
          "name": "stdout"
        }
      ]
    },
    {
      "cell_type": "markdown",
      "metadata": {
        "id": "6nGNYZw3KKYf"
      },
      "source": [
        "####**PART B**\n",
        "####**(Answer ALL Questions)**\n"
      ]
    },
    {
      "cell_type": "markdown",
      "metadata": {
        "id": "dTeLj54mKHjT"
      },
      "source": [
        "5.\tWrite a program to check if a given number is a prime number or not?"
      ]
    },
    {
      "cell_type": "code",
      "metadata": {
        "id": "-sv8Q7de8iEZ",
        "outputId": "2b36eac9-7ff5-48fd-8699-d1ec8d4e5958",
        "colab": {
          "base_uri": "https://localhost:8080/",
          "height": 51
        }
      },
      "source": [
        "num=int(input(\"Enter a number:\"))\n",
        "if num>1:\n",
        "  for i in range(2,num):\n",
        "    if(num%i)==0:\n",
        "      print(num,\"is not a prime number\")\n",
        "      print(i,\"times\",num//i,\"is\",num)\n",
        "      break\n",
        "  else:\n",
        "    print(num,\"is a prime number\")\n",
        "else:\n",
        "  print(num,\"is not a prime number\")"
      ],
      "execution_count": 15,
      "outputs": [
        {
          "output_type": "stream",
          "text": [
            "Enter a number:3\n",
            "3 is a prime number\n"
          ],
          "name": "stdout"
        }
      ]
    },
    {
      "cell_type": "code",
      "metadata": {
        "id": "KuhKV5SwKAdG",
        "outputId": "9571f23c-8b6f-49b2-daa8-bfd0cc1a5036",
        "colab": {
          "base_uri": "https://localhost:8080/",
          "height": 35
        }
      },
      "source": [
        "prime(21)"
      ],
      "execution_count": null,
      "outputs": [
        {
          "output_type": "stream",
          "text": [
            "The number is a not a prime number!\n"
          ],
          "name": "stdout"
        }
      ]
    },
    {
      "cell_type": "markdown",
      "metadata": {
        "id": "8Kcsn1EmKZiK"
      },
      "source": [
        "6.\t\t\t\t\t\t\t\n",
        "a.\tExplain the steps in interpreting a Python program with the help of a diagram\t\t\tCO1\n"
      ]
    },
    {
      "cell_type": "markdown",
      "metadata": {
        "id": "sUf8tS0NNbB3"
      },
      "source": [
        "1.  The interpreter reads a Python expression or statement, also called the\n",
        "source code, and verifies that it is well formed. In this step, the interpreter\n",
        "behaves like a strict English teacher who rejects any sentence that\n",
        "does not adhere to the grammar rules, or syntax, of the language. As\n",
        "soon as the interpreter encounters such an error, it halts translation with\n",
        "an error message.\n",
        "2. If a Python expression is well formed, the interpreter then translates it to\n",
        "an equivalent form in a low-level language called byte code. When the\n",
        "interpreter runs a script, it completely translates it to byte code.\n",
        "3. This byte code is next sent to another software component, called the\n",
        "Python virtual machine (PVM), where it is executed. If another error\n",
        "occurs during this step, execution also halts with an error message."
      ]
    },
    {
      "cell_type": "markdown",
      "metadata": {
        "id": "WcwoqOHGOeGv"
      },
      "source": [
        "![image.png](data:image/png;base64,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)"
      ]
    },
    {
      "cell_type": "markdown",
      "metadata": {
        "id": "qRbLEOEPLHNk"
      },
      "source": [
        "6. b.\t Write a program to search an element in a list.\t\t\t\tCO2"
      ]
    },
    {
      "cell_type": "code",
      "metadata": {
        "id": "mByYaeF9KBhb",
        "outputId": "4defba6d-1ce7-41aa-ca90-002d37928699",
        "colab": {
          "base_uri": "https://localhost:8080/",
          "height": 68
        }
      },
      "source": [
        "list=[1,2,3,4,5]\n",
        "print(list)\n",
        "num=int(input(\"Enter the value to search:\"))\n",
        "for i in list:\n",
        "  if i==num:\n",
        "    print(\"Element is found\")\n",
        "    break\n",
        "else:\n",
        "    print(\"Element is not found\")"
      ],
      "execution_count": 17,
      "outputs": [
        {
          "output_type": "stream",
          "text": [
            "[1, 2, 3, 4, 5]\n",
            "Enter the value to search:8\n",
            "Element is not found\n"
          ],
          "name": "stdout"
        }
      ]
    },
    {
      "cell_type": "code",
      "metadata": {
        "id": "kih3MNShMY7f",
        "outputId": "4f273bd0-b367-49a0-c4a7-54c65d670d35",
        "colab": {
          "base_uri": "https://localhost:8080/",
          "height": 35
        }
      },
      "source": [
        ""
      ],
      "execution_count": null,
      "outputs": [
        {
          "output_type": "stream",
          "text": [
            "(True, 3)\n"
          ],
          "name": "stdout"
        }
      ]
    },
    {
      "cell_type": "markdown",
      "metadata": {
        "id": "GyLSl0XDMh8a"
      },
      "source": [
        "7.\tWrite a Python program to reverse a string and print whether its palindrome or not\tCO2"
      ]
    },
    {
      "cell_type": "code",
      "metadata": {
        "id": "Q8B7RqwdMaxG",
        "outputId": "0e317842-9c7f-4ab3-ccb7-a19d922b12c1",
        "colab": {
          "base_uri": "https://localhost:8080/",
          "height": 51
        }
      },
      "source": [
        "def isPalindrome(s):\n",
        "  rev=''.join(reversed(s))\n",
        "  if(s==rev):\n",
        "    return True\n",
        "  return False\n",
        "s=input(\"Enter a word:\")\n",
        "ans=isPalindrome(s)\n",
        "if(ans):\n",
        "  print(\"Palindrome\")\n",
        "else:\n",
        "  print(\"Not Palindrome\")\n"
      ],
      "execution_count": 20,
      "outputs": [
        {
          "output_type": "stream",
          "text": [
            "Enter a word:malayalam\n",
            "Palindrome\n"
          ],
          "name": "stdout"
        }
      ]
    },
    {
      "cell_type": "code",
      "metadata": {
        "id": "rgfZZ5-uMkjQ",
        "outputId": "84a5e39a-94da-4eab-d54e-7c81313a4288",
        "colab": {
          "base_uri": "https://localhost:8080/",
          "height": 70
        }
      },
      "source": [
        "palindrome(\"malayalam\")\n",
        "palindrome(\"hindi\")"
      ],
      "execution_count": null,
      "outputs": [
        {
          "output_type": "stream",
          "text": [
            "malayalam\n",
            "idnih\n"
          ],
          "name": "stdout"
        },
        {
          "output_type": "execute_result",
          "data": {
            "application/vnd.google.colaboratory.intrinsic+json": {
              "type": "string"
            },
            "text/plain": [
              "'Not Palindrome'"
            ]
          },
          "metadata": {
            "tags": []
          },
          "execution_count": 59
        }
      ]
    }
  ]
}