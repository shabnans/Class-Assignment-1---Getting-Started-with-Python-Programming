{
  "nbformat": 4,
  "nbformat_minor": 0,
  "metadata": {
    "colab": {
      "name": " Shabna",
      "provenance": [],
      "collapsed_sections": [],
      "authorship_tag": "ABX9TyP5r3E58/jtigVNLjCVLdZM",
      "include_colab_link": true
    },
    "kernelspec": {
      "name": "python3",
      "display_name": "Python 3"
    }
  },
  "cells": [
    {
      "cell_type": "markdown",
      "metadata": {
        "id": "view-in-github",
        "colab_type": "text"
      },
      "source": [
        "<a href=\"https://colab.research.google.com/github/shabnans/Class-Assignment-1---Getting-Started-with-Python-Programming/blob/master/Shabna.ipynb\" target=\"_parent\"><img src=\"https://colab.research.google.com/assets/colab-badge.svg\" alt=\"Open In Colab\"/></a>"
      ]
    },
    {
      "cell_type": "code",
      "metadata": {
        "id": "kn0xrkQx6Drg",
        "colab_type": "code",
        "colab": {}
      },
      "source": [
        "#program to compute area of triangle \n",
        "base=int(input(\"Enter the base of triangle:\"))\n",
        "height=int(input(\"Enter the height of triangle:\")) \n",
        "area=0.5*base*height\n",
        "print(\"The area is\",area,\"square units\")"
      ],
      "execution_count": null,
      "outputs": []
    },
    {
      "cell_type": "code",
      "metadata": {
        "id": "KG6OvZsfD_Wq",
        "colab_type": "code",
        "colab": {}
      },
      "source": [
        "#python code to check the two strings are equal or not \n",
        "a=input(\"enter the first string\") \n",
        "b=input(\"enter the second string\") \n",
        "if a==b: \n",
        "  print(\"Equal\") \n",
        "elif a!=b: \n",
        "  print(\"NotEqual\")"
      ],
      "execution_count": null,
      "outputs": []
    },
    {
      "cell_type": "code",
      "metadata": {
        "id": "SA270lRb1UVc",
        "colab_type": "code",
        "colab": {}
      },
      "source": [
        "#program to display name,address,telephone number \n",
        "name=input(\"Enter name:\") \n",
        "address=input(\"Enter your address:\") \n",
        "teleNo=int(input(\"Enter your telephone number:\")) \n",
        "print(\" \") \n",
        "print(\"Name:\",name) \n",
        "print(\"Address:\",address) \n",
        "print(\"Telephone No:\",teleNo)"
      ],
      "execution_count": null,
      "outputs": []
    },
    {
      "cell_type": "code",
      "metadata": {
        "id": "7YL8C22bbjSh",
        "colab_type": "code",
        "colab": {}
      },
      "source": [
        "#program to add one to given number \n",
        "a=int(input(\"enter a number\"))\n",
        "a=a+1 \n",
        "print(a)"
      ],
      "execution_count": null,
      "outputs": []
    },
    {
      "cell_type": "code",
      "metadata": {
        "id": "FX8oz2HPc39Y",
        "colab_type": "code",
        "colab": {}
      },
      "source": [
        "#program to print first name \n",
        "b=input(\"enter your first name\") \n",
        "print(b)"
      ],
      "execution_count": null,
      "outputs": []
    },
    {
      "cell_type": "code",
      "metadata": {
        "id": "8vlsiyYHtNxn",
        "colab_type": "code",
        "colab": {}
      },
      "source": [
        "from google.colab import drive\n",
        "drive.mount('/content/drive')"
      ],
      "execution_count": null,
      "outputs": []
    },
    {
      "cell_type": "code",
      "metadata": {
        "id": "athdcRrUKGcK",
        "colab_type": "code",
        "colab": {}
      },
      "source": [
        "#program to print name \n",
        "name=\"Shabna\"\n",
        "print(\"your name is\",name)"
      ],
      "execution_count": null,
      "outputs": []
    },
    {
      "cell_type": "markdown",
      "metadata": {
        "id": "3n0PV5Z1jDoW",
        "colab_type": "text"
      },
      "source": [
        ""
      ]
    },
    {
      "cell_type": "code",
      "metadata": {
        "id": "qzwawhuzaE1N",
        "colab_type": "code",
        "colab": {}
      },
      "source": [
        "#python code to convert celcius to farenheit \n",
        "celcius=int(input(\"Enter the temperature in celcius:\"))\n",
        "farenheit=celcius*1.8+32\n",
        "print(\"The temperature in farenheit is\",farenheit)"
      ],
      "execution_count": null,
      "outputs": []
    },
    {
      "cell_type": "code",
      "metadata": {
        "id": "S7KoZqFY6RHO",
        "colab_type": "code",
        "colab": {}
      },
      "source": [
        "#program to compute the area of rectangle \n",
        "length=int(input(\"Enter the length:\")) \n",
        "breadth=int(input(\"Enter the breadth:\")) \n",
        "area=length*breadth \n",
        "print(\"The area of rectangle is\",area,\"square units\")"
      ],
      "execution_count": null,
      "outputs": []
    },
    {
      "cell_type": "code",
      "metadata": {
        "id": "K_Hawg3x8FVs",
        "colab_type": "code",
        "colab": {}
      },
      "source": [
        "#program to display the name and age of the user in a sentence \n",
        "name=input(\"Enter your name:\") \n",
        "age=int(input(\"Enter your age:\")) \n",
        "print(name,\"is\",age,\"years old\")"
      ],
      "execution_count": null,
      "outputs": []
    },
    {
      "cell_type": "code",
      "metadata": {
        "id": "XnyVmzfp5d8x",
        "colab_type": "code",
        "colab": {}
      },
      "source": [
        "#program to compute area of circle \n",
        "radius=int(input(\"Enter the radius:\")) \n",
        "area=3.14*radius**2 \n",
        "print(\"The area is\",area,\"square units\")"
      ],
      "execution_count": null,
      "outputs": []
    },
    {
      "cell_type": "code",
      "metadata": {
        "id": "o2m6qn6X8tUp",
        "colab_type": "code",
        "colab": {}
      },
      "source": [
        "#python code to find the numberis positive negative or zero \n",
        "a=int(input(\"Enter the number:\"))\n",
        "if a>0: \n",
        " print(\"number is positive\") \n",
        "elif a<0: \n",
        " print(\"number is negative\") \n",
        "else: \n",
        " print(\"number is 0\")"
      ],
      "execution_count": null,
      "outputs": []
    },
    {
      "cell_type": "code",
      "metadata": {
        "id": "QC2aPfMh-J5r",
        "colab_type": "code",
        "colab": {}
      },
      "source": [
        "#python code to find largest among three numbers \n",
        " \n",
        "a=int(input(\"Enter the number:\"))\n",
        "b=int(input(\"Enter the number:\"))\n",
        "c=int(input(\"Enter the number:\"))\n",
        "if (a>b)and(a>c):\n",
        "   print(\"number a is greater\")\n",
        "elif b>c:\n",
        "   print(\"number b is greater\") \n",
        "else:\n",
        "   print(\"number c is greater\")"
      ],
      "execution_count": null,
      "outputs": []
    },
    {
      "cell_type": "code",
      "metadata": {
        "id": "8ENpBeyqL2DZ",
        "colab_type": "code",
        "colab": {}
      },
      "source": [
        "#python code to compute the area of triangle \n",
        "base=int(input(\"Enter the base:\")) \n",
        "height=int(input(\"Enter the height:\")) \n",
        "area=0.5*base*height \n",
        "print(\"The area is\",area,\"square units\")"
      ],
      "execution_count": null,
      "outputs": []
    },
    {
      "cell_type": "code",
      "metadata": {
        "id": "MLMCxRvtXjuh",
        "colab_type": "code",
        "colab": {}
      },
      "source": [
        "#python code to find the square root \n",
        "a=int(input(\"Enter the number:\")) \n",
        "a=a**.5\n",
        "print(a)"
      ],
      "execution_count": null,
      "outputs": []
    },
    {
      "cell_type": "code",
      "metadata": {
        "id": "zmN-hHKb4k_d",
        "colab_type": "code",
        "colab": {}
      },
      "source": [
        "#python code to add two number \n",
        "a=int(input(\"Enter the first number:\"))\n",
        "b=int(input(\"Enter the second number:\")) \n",
        "sum=a+b\n",
        "print(sum)"
      ],
      "execution_count": null,
      "outputs": []
    },
    {
      "cell_type": "code",
      "metadata": {
        "id": "ekMdN8PcvMYy",
        "colab_type": "code",
        "colab": {}
      },
      "source": [
        ""
      ],
      "execution_count": null,
      "outputs": []
    },
    {
      "cell_type": "markdown",
      "metadata": {
        "id": "sS5milD6vRWO",
        "colab_type": "text"
      },
      "source": [
        ""
      ]
    }
  ]
}